{
 "cells": [
  {
   "metadata": {},
   "cell_type": "markdown",
   "source": "# Custom Pipeline",
   "id": "d6a0f07b95f29588"
  },
  {
   "metadata": {},
   "cell_type": "markdown",
   "source": "## Install requirements",
   "id": "fb3530fb05f60f1a"
  },
  {
   "metadata": {
    "ExecuteTime": {
     "end_time": "2024-07-24T08:59:08.039268Z",
     "start_time": "2024-07-24T08:59:08.035017Z"
    }
   },
   "cell_type": "code",
   "source": [
    "import sys\n",
    "from typing import Iterator\n",
    "\n",
    "from langchain_core.documents import Document\n",
    "\n",
    "sys.path.append(\"src\")"
   ],
   "id": "45bae85c403c573e",
   "outputs": [],
   "execution_count": 6
  },
  {
   "metadata": {
    "ExecuteTime": {
     "end_time": "2024-07-24T08:59:18.967020Z",
     "start_time": "2024-07-24T08:59:08.057832Z"
    }
   },
   "cell_type": "code",
   "source": "! pip install -r requirements.txt",
   "id": "93d12b4b66a5dc28",
   "outputs": [
    {
     "name": "stdout",
     "output_type": "stream",
     "text": [
      "Looking in indexes: https://int.repositories.cloud.sap/artifactory/api/pypi/build-milestones-pypi/simple/, https://int.repositories.cloud.sap/artifactory/api/pypi/proxy-deploy-releases-hyperspace-pypi/simple\r\n",
      "Obtaining langchain-rage from git+https://github.tools.sap/AI-BUS/rage-langchain#egg=langchain-rage (from -r requirements.txt (line 4))\r\n",
      "  Updating ./.venv/src/langchain-rage clone\r\n",
      "  Running command git fetch -q --tags\r\n",
      "  Running command git reset --hard -q 993611ab9c40f3dfa8bf68215375fa5def9f7ec8\r\n",
      "  Installing build dependencies ... \u001B[?25ldone\r\n",
      "\u001B[?25h  Checking if build backend supports build_editable ... \u001B[?25ldone\r\n",
      "\u001B[?25h  Getting requirements to build editable ... \u001B[?25ldone\r\n",
      "\u001B[?25h  Preparing editable metadata (pyproject.toml) ... \u001B[?25ldone\r\n",
      "\u001B[?25hRequirement already satisfied: langchain-community==0.2.7 in ./.venv/lib/python3.11/site-packages (from -r requirements.txt (line 1)) (0.2.7)\r\n",
      "Requirement already satisfied: unstructured==0.14.10 in ./.venv/lib/python3.11/site-packages (from unstructured[docx,md,pdf]==0.14.10->-r requirements.txt (line 3)) (0.14.10)\r\n",
      "Requirement already satisfied: PyYAML>=5.3 in ./.venv/lib/python3.11/site-packages (from langchain-community==0.2.7->-r requirements.txt (line 1)) (6.0.1)\r\n",
      "Requirement already satisfied: SQLAlchemy<3,>=1.4 in ./.venv/lib/python3.11/site-packages (from langchain-community==0.2.7->-r requirements.txt (line 1)) (2.0.31)\r\n",
      "Requirement already satisfied: aiohttp<4.0.0,>=3.8.3 in ./.venv/lib/python3.11/site-packages (from langchain-community==0.2.7->-r requirements.txt (line 1)) (3.9.5)\r\n",
      "Requirement already satisfied: dataclasses-json<0.7,>=0.5.7 in ./.venv/lib/python3.11/site-packages (from langchain-community==0.2.7->-r requirements.txt (line 1)) (0.6.7)\r\n",
      "Requirement already satisfied: langchain<0.3.0,>=0.2.7 in ./.venv/lib/python3.11/site-packages (from langchain-community==0.2.7->-r requirements.txt (line 1)) (0.2.10)\r\n",
      "Requirement already satisfied: langchain-core<0.3.0,>=0.2.12 in ./.venv/lib/python3.11/site-packages (from langchain-community==0.2.7->-r requirements.txt (line 1)) (0.2.22)\r\n",
      "Requirement already satisfied: langsmith<0.2.0,>=0.1.0 in ./.venv/lib/python3.11/site-packages (from langchain-community==0.2.7->-r requirements.txt (line 1)) (0.1.93)\r\n",
      "Requirement already satisfied: numpy<2,>=1 in ./.venv/lib/python3.11/site-packages (from langchain-community==0.2.7->-r requirements.txt (line 1)) (1.26.4)\r\n",
      "Requirement already satisfied: requests<3,>=2 in ./.venv/lib/python3.11/site-packages (from langchain-community==0.2.7->-r requirements.txt (line 1)) (2.32.3)\r\n",
      "Requirement already satisfied: tenacity!=8.4.0,<9.0.0,>=8.1.0 in ./.venv/lib/python3.11/site-packages (from langchain-community==0.2.7->-r requirements.txt (line 1)) (8.5.0)\r\n",
      "Requirement already satisfied: chardet in ./.venv/lib/python3.11/site-packages (from unstructured==0.14.10->unstructured[docx,md,pdf]==0.14.10->-r requirements.txt (line 3)) (5.2.0)\r\n",
      "Requirement already satisfied: filetype in ./.venv/lib/python3.11/site-packages (from unstructured==0.14.10->unstructured[docx,md,pdf]==0.14.10->-r requirements.txt (line 3)) (1.2.0)\r\n",
      "Requirement already satisfied: python-magic in ./.venv/lib/python3.11/site-packages (from unstructured==0.14.10->unstructured[docx,md,pdf]==0.14.10->-r requirements.txt (line 3)) (0.4.27)\r\n",
      "Requirement already satisfied: lxml in ./.venv/lib/python3.11/site-packages (from unstructured==0.14.10->unstructured[docx,md,pdf]==0.14.10->-r requirements.txt (line 3)) (5.2.2)\r\n",
      "Requirement already satisfied: nltk in ./.venv/lib/python3.11/site-packages (from unstructured==0.14.10->unstructured[docx,md,pdf]==0.14.10->-r requirements.txt (line 3)) (3.8.1)\r\n",
      "Requirement already satisfied: tabulate in ./.venv/lib/python3.11/site-packages (from unstructured==0.14.10->unstructured[docx,md,pdf]==0.14.10->-r requirements.txt (line 3)) (0.9.0)\r\n",
      "Requirement already satisfied: beautifulsoup4 in ./.venv/lib/python3.11/site-packages (from unstructured==0.14.10->unstructured[docx,md,pdf]==0.14.10->-r requirements.txt (line 3)) (4.12.3)\r\n",
      "Requirement already satisfied: emoji in ./.venv/lib/python3.11/site-packages (from unstructured==0.14.10->unstructured[docx,md,pdf]==0.14.10->-r requirements.txt (line 3)) (2.12.1)\r\n",
      "Requirement already satisfied: python-iso639 in ./.venv/lib/python3.11/site-packages (from unstructured==0.14.10->unstructured[docx,md,pdf]==0.14.10->-r requirements.txt (line 3)) (2024.4.27)\r\n",
      "Requirement already satisfied: langdetect in ./.venv/lib/python3.11/site-packages (from unstructured==0.14.10->unstructured[docx,md,pdf]==0.14.10->-r requirements.txt (line 3)) (1.0.9)\r\n",
      "Requirement already satisfied: rapidfuzz in ./.venv/lib/python3.11/site-packages (from unstructured==0.14.10->unstructured[docx,md,pdf]==0.14.10->-r requirements.txt (line 3)) (3.9.4)\r\n",
      "Requirement already satisfied: backoff in ./.venv/lib/python3.11/site-packages (from unstructured==0.14.10->unstructured[docx,md,pdf]==0.14.10->-r requirements.txt (line 3)) (2.2.1)\r\n",
      "Requirement already satisfied: typing-extensions in ./.venv/lib/python3.11/site-packages (from unstructured==0.14.10->unstructured[docx,md,pdf]==0.14.10->-r requirements.txt (line 3)) (4.12.2)\r\n",
      "Requirement already satisfied: unstructured-client in ./.venv/lib/python3.11/site-packages (from unstructured==0.14.10->unstructured[docx,md,pdf]==0.14.10->-r requirements.txt (line 3)) (0.24.1)\r\n",
      "Requirement already satisfied: wrapt in ./.venv/lib/python3.11/site-packages (from unstructured==0.14.10->unstructured[docx,md,pdf]==0.14.10->-r requirements.txt (line 3)) (1.16.0)\r\n",
      "Requirement already satisfied: tqdm in ./.venv/lib/python3.11/site-packages (from unstructured==0.14.10->unstructured[docx,md,pdf]==0.14.10->-r requirements.txt (line 3)) (4.66.4)\r\n",
      "Requirement already satisfied: psutil in ./.venv/lib/python3.11/site-packages (from unstructured==0.14.10->unstructured[docx,md,pdf]==0.14.10->-r requirements.txt (line 3)) (6.0.0)\r\n",
      "Requirement already satisfied: python-docx>=1.1.2 in ./.venv/lib/python3.11/site-packages (from unstructured[docx,md,pdf]==0.14.10->-r requirements.txt (line 3)) (1.1.2)\r\n",
      "Requirement already satisfied: markdown in ./.venv/lib/python3.11/site-packages (from unstructured[docx,md,pdf]==0.14.10->-r requirements.txt (line 3)) (3.6)\r\n",
      "Requirement already satisfied: onnx in ./.venv/lib/python3.11/site-packages (from unstructured[docx,md,pdf]==0.14.10->-r requirements.txt (line 3)) (1.16.1)\r\n",
      "Requirement already satisfied: pdf2image in ./.venv/lib/python3.11/site-packages (from unstructured[docx,md,pdf]==0.14.10->-r requirements.txt (line 3)) (1.17.0)\r\n",
      "Requirement already satisfied: pdfminer.six in ./.venv/lib/python3.11/site-packages (from unstructured[docx,md,pdf]==0.14.10->-r requirements.txt (line 3)) (20231228)\r\n",
      "Requirement already satisfied: pikepdf in ./.venv/lib/python3.11/site-packages (from unstructured[docx,md,pdf]==0.14.10->-r requirements.txt (line 3)) (9.0.0)\r\n",
      "Requirement already satisfied: pillow-heif in ./.venv/lib/python3.11/site-packages (from unstructured[docx,md,pdf]==0.14.10->-r requirements.txt (line 3)) (0.17.0)\r\n",
      "Requirement already satisfied: pypdf in ./.venv/lib/python3.11/site-packages (from unstructured[docx,md,pdf]==0.14.10->-r requirements.txt (line 3)) (4.3.1)\r\n",
      "Requirement already satisfied: pytesseract in ./.venv/lib/python3.11/site-packages (from unstructured[docx,md,pdf]==0.14.10->-r requirements.txt (line 3)) (0.3.10)\r\n",
      "Requirement already satisfied: google-cloud-vision in ./.venv/lib/python3.11/site-packages (from unstructured[docx,md,pdf]==0.14.10->-r requirements.txt (line 3)) (3.7.3)\r\n",
      "Requirement already satisfied: effdet in ./.venv/lib/python3.11/site-packages (from unstructured[docx,md,pdf]==0.14.10->-r requirements.txt (line 3)) (0.4.1)\r\n",
      "Requirement already satisfied: unstructured-inference==0.7.36 in ./.venv/lib/python3.11/site-packages (from unstructured[docx,md,pdf]==0.14.10->-r requirements.txt (line 3)) (0.7.36)\r\n",
      "Requirement already satisfied: unstructured.pytesseract>=0.3.12 in ./.venv/lib/python3.11/site-packages (from unstructured[docx,md,pdf]==0.14.10->-r requirements.txt (line 3)) (0.3.12)\r\n",
      "Requirement already satisfied: layoutparser in ./.venv/lib/python3.11/site-packages (from unstructured-inference==0.7.36->unstructured[docx,md,pdf]==0.14.10->-r requirements.txt (line 3)) (0.3.4)\r\n",
      "Requirement already satisfied: python-multipart in ./.venv/lib/python3.11/site-packages (from unstructured-inference==0.7.36->unstructured[docx,md,pdf]==0.14.10->-r requirements.txt (line 3)) (0.0.9)\r\n",
      "Requirement already satisfied: huggingface-hub in ./.venv/lib/python3.11/site-packages (from unstructured-inference==0.7.36->unstructured[docx,md,pdf]==0.14.10->-r requirements.txt (line 3)) (0.24.0)\r\n",
      "Requirement already satisfied: opencv-python!=4.7.0.68 in ./.venv/lib/python3.11/site-packages (from unstructured-inference==0.7.36->unstructured[docx,md,pdf]==0.14.10->-r requirements.txt (line 3)) (4.10.0.84)\r\n",
      "Requirement already satisfied: onnxruntime>=1.17.0 in ./.venv/lib/python3.11/site-packages (from unstructured-inference==0.7.36->unstructured[docx,md,pdf]==0.14.10->-r requirements.txt (line 3)) (1.18.1)\r\n",
      "Requirement already satisfied: matplotlib in ./.venv/lib/python3.11/site-packages (from unstructured-inference==0.7.36->unstructured[docx,md,pdf]==0.14.10->-r requirements.txt (line 3)) (3.9.1)\r\n",
      "Requirement already satisfied: torch in ./.venv/lib/python3.11/site-packages (from unstructured-inference==0.7.36->unstructured[docx,md,pdf]==0.14.10->-r requirements.txt (line 3)) (2.3.1)\r\n",
      "Requirement already satisfied: timm in ./.venv/lib/python3.11/site-packages (from unstructured-inference==0.7.36->unstructured[docx,md,pdf]==0.14.10->-r requirements.txt (line 3)) (1.0.7)\r\n",
      "Requirement already satisfied: transformers>=4.25.1 in ./.venv/lib/python3.11/site-packages (from unstructured-inference==0.7.36->unstructured[docx,md,pdf]==0.14.10->-r requirements.txt (line 3)) (4.42.4)\r\n",
      "Requirement already satisfied: aiosignal>=1.1.2 in ./.venv/lib/python3.11/site-packages (from aiohttp<4.0.0,>=3.8.3->langchain-community==0.2.7->-r requirements.txt (line 1)) (1.3.1)\r\n",
      "Requirement already satisfied: attrs>=17.3.0 in ./.venv/lib/python3.11/site-packages (from aiohttp<4.0.0,>=3.8.3->langchain-community==0.2.7->-r requirements.txt (line 1)) (23.2.0)\r\n",
      "Requirement already satisfied: frozenlist>=1.1.1 in ./.venv/lib/python3.11/site-packages (from aiohttp<4.0.0,>=3.8.3->langchain-community==0.2.7->-r requirements.txt (line 1)) (1.4.1)\r\n",
      "Requirement already satisfied: multidict<7.0,>=4.5 in ./.venv/lib/python3.11/site-packages (from aiohttp<4.0.0,>=3.8.3->langchain-community==0.2.7->-r requirements.txt (line 1)) (6.0.5)\r\n",
      "Requirement already satisfied: yarl<2.0,>=1.0 in ./.venv/lib/python3.11/site-packages (from aiohttp<4.0.0,>=3.8.3->langchain-community==0.2.7->-r requirements.txt (line 1)) (1.9.4)\r\n",
      "Requirement already satisfied: marshmallow<4.0.0,>=3.18.0 in ./.venv/lib/python3.11/site-packages (from dataclasses-json<0.7,>=0.5.7->langchain-community==0.2.7->-r requirements.txt (line 1)) (3.21.3)\r\n",
      "Requirement already satisfied: typing-inspect<1,>=0.4.0 in ./.venv/lib/python3.11/site-packages (from dataclasses-json<0.7,>=0.5.7->langchain-community==0.2.7->-r requirements.txt (line 1)) (0.9.0)\r\n",
      "Requirement already satisfied: langchain-text-splitters<0.3.0,>=0.2.0 in ./.venv/lib/python3.11/site-packages (from langchain<0.3.0,>=0.2.7->langchain-community==0.2.7->-r requirements.txt (line 1)) (0.2.2)\r\n",
      "Requirement already satisfied: pydantic<3,>=1 in ./.venv/lib/python3.11/site-packages (from langchain<0.3.0,>=0.2.7->langchain-community==0.2.7->-r requirements.txt (line 1)) (2.8.2)\r\n",
      "Requirement already satisfied: jsonpatch<2.0,>=1.33 in ./.venv/lib/python3.11/site-packages (from langchain-core<0.3.0,>=0.2.12->langchain-community==0.2.7->-r requirements.txt (line 1)) (1.33)\r\n",
      "Requirement already satisfied: packaging<25,>=23.2 in ./.venv/lib/python3.11/site-packages (from langchain-core<0.3.0,>=0.2.12->langchain-community==0.2.7->-r requirements.txt (line 1)) (24.1)\r\n",
      "Requirement already satisfied: orjson<4.0.0,>=3.9.14 in ./.venv/lib/python3.11/site-packages (from langsmith<0.2.0,>=0.1.0->langchain-community==0.2.7->-r requirements.txt (line 1)) (3.10.6)\r\n",
      "Requirement already satisfied: charset-normalizer<4,>=2 in ./.venv/lib/python3.11/site-packages (from requests<3,>=2->langchain-community==0.2.7->-r requirements.txt (line 1)) (3.3.2)\r\n",
      "Requirement already satisfied: idna<4,>=2.5 in ./.venv/lib/python3.11/site-packages (from requests<3,>=2->langchain-community==0.2.7->-r requirements.txt (line 1)) (3.7)\r\n",
      "Requirement already satisfied: urllib3<3,>=1.21.1 in ./.venv/lib/python3.11/site-packages (from requests<3,>=2->langchain-community==0.2.7->-r requirements.txt (line 1)) (2.2.2)\r\n",
      "Requirement already satisfied: certifi>=2017.4.17 in ./.venv/lib/python3.11/site-packages (from requests<3,>=2->langchain-community==0.2.7->-r requirements.txt (line 1)) (2024.7.4)\r\n",
      "Requirement already satisfied: Pillow>=8.0.0 in ./.venv/lib/python3.11/site-packages (from unstructured.pytesseract>=0.3.12->unstructured[docx,md,pdf]==0.14.10->-r requirements.txt (line 3)) (10.4.0)\r\n",
      "Requirement already satisfied: soupsieve>1.2 in ./.venv/lib/python3.11/site-packages (from beautifulsoup4->unstructured==0.14.10->unstructured[docx,md,pdf]==0.14.10->-r requirements.txt (line 3)) (2.5)\r\n",
      "Requirement already satisfied: torchvision in ./.venv/lib/python3.11/site-packages (from effdet->unstructured[docx,md,pdf]==0.14.10->-r requirements.txt (line 3)) (0.18.1)\r\n",
      "Requirement already satisfied: pycocotools>=2.0.2 in ./.venv/lib/python3.11/site-packages (from effdet->unstructured[docx,md,pdf]==0.14.10->-r requirements.txt (line 3)) (2.0.8)\r\n",
      "Requirement already satisfied: omegaconf>=2.0 in ./.venv/lib/python3.11/site-packages (from effdet->unstructured[docx,md,pdf]==0.14.10->-r requirements.txt (line 3)) (2.3.0)\r\n",
      "Requirement already satisfied: google-api-core!=2.0.*,!=2.1.*,!=2.10.*,!=2.2.*,!=2.3.*,!=2.4.*,!=2.5.*,!=2.6.*,!=2.7.*,!=2.8.*,!=2.9.*,<3.0.0dev,>=1.34.1 in ./.venv/lib/python3.11/site-packages (from google-api-core[grpc]!=2.0.*,!=2.1.*,!=2.10.*,!=2.2.*,!=2.3.*,!=2.4.*,!=2.5.*,!=2.6.*,!=2.7.*,!=2.8.*,!=2.9.*,<3.0.0dev,>=1.34.1->google-cloud-vision->unstructured[docx,md,pdf]==0.14.10->-r requirements.txt (line 3)) (2.19.1)\r\n",
      "Requirement already satisfied: google-auth!=2.24.0,!=2.25.0,<3.0.0dev,>=2.14.1 in ./.venv/lib/python3.11/site-packages (from google-cloud-vision->unstructured[docx,md,pdf]==0.14.10->-r requirements.txt (line 3)) (2.32.0)\r\n",
      "Requirement already satisfied: proto-plus<2.0.0dev,>=1.22.3 in ./.venv/lib/python3.11/site-packages (from google-cloud-vision->unstructured[docx,md,pdf]==0.14.10->-r requirements.txt (line 3)) (1.24.0)\r\n",
      "Requirement already satisfied: protobuf!=4.21.0,!=4.21.1,!=4.21.2,!=4.21.3,!=4.21.4,!=4.21.5,<6.0.0dev,>=3.20.2 in ./.venv/lib/python3.11/site-packages (from google-cloud-vision->unstructured[docx,md,pdf]==0.14.10->-r requirements.txt (line 3)) (5.27.2)\r\n",
      "Requirement already satisfied: six in ./.venv/lib/python3.11/site-packages (from langdetect->unstructured==0.14.10->unstructured[docx,md,pdf]==0.14.10->-r requirements.txt (line 3)) (1.16.0)\r\n",
      "Requirement already satisfied: click in ./.venv/lib/python3.11/site-packages (from nltk->unstructured==0.14.10->unstructured[docx,md,pdf]==0.14.10->-r requirements.txt (line 3)) (8.1.7)\r\n",
      "Requirement already satisfied: joblib in ./.venv/lib/python3.11/site-packages (from nltk->unstructured==0.14.10->unstructured[docx,md,pdf]==0.14.10->-r requirements.txt (line 3)) (1.4.2)\r\n",
      "Requirement already satisfied: regex>=2021.8.3 in ./.venv/lib/python3.11/site-packages (from nltk->unstructured==0.14.10->unstructured[docx,md,pdf]==0.14.10->-r requirements.txt (line 3)) (2024.5.15)\r\n",
      "Requirement already satisfied: cryptography>=36.0.0 in ./.venv/lib/python3.11/site-packages (from pdfminer.six->unstructured[docx,md,pdf]==0.14.10->-r requirements.txt (line 3)) (43.0.0)\r\n",
      "Requirement already satisfied: Deprecated in ./.venv/lib/python3.11/site-packages (from pikepdf->unstructured[docx,md,pdf]==0.14.10->-r requirements.txt (line 3)) (1.2.14)\r\n",
      "Requirement already satisfied: deepdiff>=6.0 in ./.venv/lib/python3.11/site-packages (from unstructured-client->unstructured==0.14.10->unstructured[docx,md,pdf]==0.14.10->-r requirements.txt (line 3)) (7.0.1)\r\n",
      "Requirement already satisfied: httpx>=0.27.0 in ./.venv/lib/python3.11/site-packages (from unstructured-client->unstructured==0.14.10->unstructured[docx,md,pdf]==0.14.10->-r requirements.txt (line 3)) (0.27.0)\r\n",
      "Requirement already satisfied: jsonpath-python>=1.0.6 in ./.venv/lib/python3.11/site-packages (from unstructured-client->unstructured==0.14.10->unstructured[docx,md,pdf]==0.14.10->-r requirements.txt (line 3)) (1.0.6)\r\n",
      "Requirement already satisfied: mypy-extensions>=1.0.0 in ./.venv/lib/python3.11/site-packages (from unstructured-client->unstructured==0.14.10->unstructured[docx,md,pdf]==0.14.10->-r requirements.txt (line 3)) (1.0.0)\r\n",
      "Requirement already satisfied: nest-asyncio>=1.6.0 in ./.venv/lib/python3.11/site-packages (from unstructured-client->unstructured==0.14.10->unstructured[docx,md,pdf]==0.14.10->-r requirements.txt (line 3)) (1.6.0)\r\n",
      "Requirement already satisfied: python-dateutil>=2.8.2 in ./.venv/lib/python3.11/site-packages (from unstructured-client->unstructured==0.14.10->unstructured[docx,md,pdf]==0.14.10->-r requirements.txt (line 3)) (2.9.0.post0)\r\n",
      "Requirement already satisfied: requests-toolbelt>=1.0.0 in ./.venv/lib/python3.11/site-packages (from unstructured-client->unstructured==0.14.10->unstructured[docx,md,pdf]==0.14.10->-r requirements.txt (line 3)) (1.0.0)\r\n",
      "Requirement already satisfied: cffi>=1.12 in ./.venv/lib/python3.11/site-packages (from cryptography>=36.0.0->pdfminer.six->unstructured[docx,md,pdf]==0.14.10->-r requirements.txt (line 3)) (1.16.0)\r\n",
      "Requirement already satisfied: ordered-set<4.2.0,>=4.1.0 in ./.venv/lib/python3.11/site-packages (from deepdiff>=6.0->unstructured-client->unstructured==0.14.10->unstructured[docx,md,pdf]==0.14.10->-r requirements.txt (line 3)) (4.1.0)\r\n",
      "Requirement already satisfied: googleapis-common-protos<2.0.dev0,>=1.56.2 in ./.venv/lib/python3.11/site-packages (from google-api-core!=2.0.*,!=2.1.*,!=2.10.*,!=2.2.*,!=2.3.*,!=2.4.*,!=2.5.*,!=2.6.*,!=2.7.*,!=2.8.*,!=2.9.*,<3.0.0dev,>=1.34.1->google-api-core[grpc]!=2.0.*,!=2.1.*,!=2.10.*,!=2.2.*,!=2.3.*,!=2.4.*,!=2.5.*,!=2.6.*,!=2.7.*,!=2.8.*,!=2.9.*,<3.0.0dev,>=1.34.1->google-cloud-vision->unstructured[docx,md,pdf]==0.14.10->-r requirements.txt (line 3)) (1.63.2)\r\n",
      "Requirement already satisfied: grpcio<2.0dev,>=1.33.2 in ./.venv/lib/python3.11/site-packages (from google-api-core[grpc]!=2.0.*,!=2.1.*,!=2.10.*,!=2.2.*,!=2.3.*,!=2.4.*,!=2.5.*,!=2.6.*,!=2.7.*,!=2.8.*,!=2.9.*,<3.0.0dev,>=1.34.1->google-cloud-vision->unstructured[docx,md,pdf]==0.14.10->-r requirements.txt (line 3)) (1.65.1)\r\n",
      "Requirement already satisfied: grpcio-status<2.0.dev0,>=1.33.2 in ./.venv/lib/python3.11/site-packages (from google-api-core[grpc]!=2.0.*,!=2.1.*,!=2.10.*,!=2.2.*,!=2.3.*,!=2.4.*,!=2.5.*,!=2.6.*,!=2.7.*,!=2.8.*,!=2.9.*,<3.0.0dev,>=1.34.1->google-cloud-vision->unstructured[docx,md,pdf]==0.14.10->-r requirements.txt (line 3)) (1.65.1)\r\n",
      "Requirement already satisfied: cachetools<6.0,>=2.0.0 in ./.venv/lib/python3.11/site-packages (from google-auth!=2.24.0,!=2.25.0,<3.0.0dev,>=2.14.1->google-cloud-vision->unstructured[docx,md,pdf]==0.14.10->-r requirements.txt (line 3)) (5.4.0)\r\n",
      "Requirement already satisfied: pyasn1-modules>=0.2.1 in ./.venv/lib/python3.11/site-packages (from google-auth!=2.24.0,!=2.25.0,<3.0.0dev,>=2.14.1->google-cloud-vision->unstructured[docx,md,pdf]==0.14.10->-r requirements.txt (line 3)) (0.4.0)\r\n",
      "Requirement already satisfied: rsa<5,>=3.1.4 in ./.venv/lib/python3.11/site-packages (from google-auth!=2.24.0,!=2.25.0,<3.0.0dev,>=2.14.1->google-cloud-vision->unstructured[docx,md,pdf]==0.14.10->-r requirements.txt (line 3)) (4.9)\r\n",
      "Requirement already satisfied: anyio in ./.venv/lib/python3.11/site-packages (from httpx>=0.27.0->unstructured-client->unstructured==0.14.10->unstructured[docx,md,pdf]==0.14.10->-r requirements.txt (line 3)) (4.4.0)\r\n",
      "Requirement already satisfied: httpcore==1.* in ./.venv/lib/python3.11/site-packages (from httpx>=0.27.0->unstructured-client->unstructured==0.14.10->unstructured[docx,md,pdf]==0.14.10->-r requirements.txt (line 3)) (1.0.5)\r\n",
      "Requirement already satisfied: sniffio in ./.venv/lib/python3.11/site-packages (from httpx>=0.27.0->unstructured-client->unstructured==0.14.10->unstructured[docx,md,pdf]==0.14.10->-r requirements.txt (line 3)) (1.3.1)\r\n",
      "Requirement already satisfied: h11<0.15,>=0.13 in ./.venv/lib/python3.11/site-packages (from httpcore==1.*->httpx>=0.27.0->unstructured-client->unstructured==0.14.10->unstructured[docx,md,pdf]==0.14.10->-r requirements.txt (line 3)) (0.14.0)\r\n",
      "Requirement already satisfied: jsonpointer>=1.9 in ./.venv/lib/python3.11/site-packages (from jsonpatch<2.0,>=1.33->langchain-core<0.3.0,>=0.2.12->langchain-community==0.2.7->-r requirements.txt (line 1)) (3.0.0)\r\n",
      "Requirement already satisfied: antlr4-python3-runtime==4.9.* in ./.venv/lib/python3.11/site-packages (from omegaconf>=2.0->effdet->unstructured[docx,md,pdf]==0.14.10->-r requirements.txt (line 3)) (4.9.3)\r\n",
      "Requirement already satisfied: coloredlogs in ./.venv/lib/python3.11/site-packages (from onnxruntime>=1.17.0->unstructured-inference==0.7.36->unstructured[docx,md,pdf]==0.14.10->-r requirements.txt (line 3)) (15.0.1)\r\n",
      "Requirement already satisfied: flatbuffers in ./.venv/lib/python3.11/site-packages (from onnxruntime>=1.17.0->unstructured-inference==0.7.36->unstructured[docx,md,pdf]==0.14.10->-r requirements.txt (line 3)) (24.3.25)\r\n",
      "Requirement already satisfied: sympy in ./.venv/lib/python3.11/site-packages (from onnxruntime>=1.17.0->unstructured-inference==0.7.36->unstructured[docx,md,pdf]==0.14.10->-r requirements.txt (line 3)) (1.13.1)\r\n",
      "Requirement already satisfied: contourpy>=1.0.1 in ./.venv/lib/python3.11/site-packages (from matplotlib->unstructured-inference==0.7.36->unstructured[docx,md,pdf]==0.14.10->-r requirements.txt (line 3)) (1.2.1)\r\n",
      "Requirement already satisfied: cycler>=0.10 in ./.venv/lib/python3.11/site-packages (from matplotlib->unstructured-inference==0.7.36->unstructured[docx,md,pdf]==0.14.10->-r requirements.txt (line 3)) (0.12.1)\r\n",
      "Requirement already satisfied: fonttools>=4.22.0 in ./.venv/lib/python3.11/site-packages (from matplotlib->unstructured-inference==0.7.36->unstructured[docx,md,pdf]==0.14.10->-r requirements.txt (line 3)) (4.53.1)\r\n",
      "Requirement already satisfied: kiwisolver>=1.3.1 in ./.venv/lib/python3.11/site-packages (from matplotlib->unstructured-inference==0.7.36->unstructured[docx,md,pdf]==0.14.10->-r requirements.txt (line 3)) (1.4.5)\r\n",
      "Requirement already satisfied: pyparsing>=2.3.1 in ./.venv/lib/python3.11/site-packages (from matplotlib->unstructured-inference==0.7.36->unstructured[docx,md,pdf]==0.14.10->-r requirements.txt (line 3)) (3.1.2)\r\n",
      "Requirement already satisfied: annotated-types>=0.4.0 in ./.venv/lib/python3.11/site-packages (from pydantic<3,>=1->langchain<0.3.0,>=0.2.7->langchain-community==0.2.7->-r requirements.txt (line 1)) (0.7.0)\r\n",
      "Requirement already satisfied: pydantic-core==2.20.1 in ./.venv/lib/python3.11/site-packages (from pydantic<3,>=1->langchain<0.3.0,>=0.2.7->langchain-community==0.2.7->-r requirements.txt (line 1)) (2.20.1)\r\n",
      "Requirement already satisfied: safetensors in ./.venv/lib/python3.11/site-packages (from timm->unstructured-inference==0.7.36->unstructured[docx,md,pdf]==0.14.10->-r requirements.txt (line 3)) (0.4.3)\r\n",
      "Requirement already satisfied: filelock in ./.venv/lib/python3.11/site-packages (from torch->unstructured-inference==0.7.36->unstructured[docx,md,pdf]==0.14.10->-r requirements.txt (line 3)) (3.15.4)\r\n",
      "Requirement already satisfied: networkx in ./.venv/lib/python3.11/site-packages (from torch->unstructured-inference==0.7.36->unstructured[docx,md,pdf]==0.14.10->-r requirements.txt (line 3)) (3.3)\r\n",
      "Requirement already satisfied: jinja2 in ./.venv/lib/python3.11/site-packages (from torch->unstructured-inference==0.7.36->unstructured[docx,md,pdf]==0.14.10->-r requirements.txt (line 3)) (3.1.4)\r\n",
      "Requirement already satisfied: fsspec in ./.venv/lib/python3.11/site-packages (from torch->unstructured-inference==0.7.36->unstructured[docx,md,pdf]==0.14.10->-r requirements.txt (line 3)) (2024.6.1)\r\n",
      "Requirement already satisfied: tokenizers<0.20,>=0.19 in ./.venv/lib/python3.11/site-packages (from transformers>=4.25.1->unstructured-inference==0.7.36->unstructured[docx,md,pdf]==0.14.10->-r requirements.txt (line 3)) (0.19.1)\r\n",
      "Requirement already satisfied: scipy in ./.venv/lib/python3.11/site-packages (from layoutparser->unstructured-inference==0.7.36->unstructured[docx,md,pdf]==0.14.10->-r requirements.txt (line 3)) (1.14.0)\r\n",
      "Requirement already satisfied: pandas in ./.venv/lib/python3.11/site-packages (from layoutparser->unstructured-inference==0.7.36->unstructured[docx,md,pdf]==0.14.10->-r requirements.txt (line 3)) (2.2.2)\r\n",
      "Requirement already satisfied: iopath in ./.venv/lib/python3.11/site-packages (from layoutparser->unstructured-inference==0.7.36->unstructured[docx,md,pdf]==0.14.10->-r requirements.txt (line 3)) (0.1.10)\r\n",
      "Requirement already satisfied: pdfplumber in ./.venv/lib/python3.11/site-packages (from layoutparser->unstructured-inference==0.7.36->unstructured[docx,md,pdf]==0.14.10->-r requirements.txt (line 3)) (0.11.2)\r\n",
      "Requirement already satisfied: pycparser in ./.venv/lib/python3.11/site-packages (from cffi>=1.12->cryptography>=36.0.0->pdfminer.six->unstructured[docx,md,pdf]==0.14.10->-r requirements.txt (line 3)) (2.22)\r\n",
      "Requirement already satisfied: pyasn1<0.7.0,>=0.4.6 in ./.venv/lib/python3.11/site-packages (from pyasn1-modules>=0.2.1->google-auth!=2.24.0,!=2.25.0,<3.0.0dev,>=2.14.1->google-cloud-vision->unstructured[docx,md,pdf]==0.14.10->-r requirements.txt (line 3)) (0.6.0)\r\n",
      "Requirement already satisfied: humanfriendly>=9.1 in ./.venv/lib/python3.11/site-packages (from coloredlogs->onnxruntime>=1.17.0->unstructured-inference==0.7.36->unstructured[docx,md,pdf]==0.14.10->-r requirements.txt (line 3)) (10.0)\r\n",
      "Requirement already satisfied: portalocker in ./.venv/lib/python3.11/site-packages (from iopath->layoutparser->unstructured-inference==0.7.36->unstructured[docx,md,pdf]==0.14.10->-r requirements.txt (line 3)) (2.10.1)\r\n",
      "Requirement already satisfied: MarkupSafe>=2.0 in ./.venv/lib/python3.11/site-packages (from jinja2->torch->unstructured-inference==0.7.36->unstructured[docx,md,pdf]==0.14.10->-r requirements.txt (line 3)) (2.1.5)\r\n",
      "Requirement already satisfied: pytz>=2020.1 in ./.venv/lib/python3.11/site-packages (from pandas->layoutparser->unstructured-inference==0.7.36->unstructured[docx,md,pdf]==0.14.10->-r requirements.txt (line 3)) (2024.1)\r\n",
      "Requirement already satisfied: tzdata>=2022.7 in ./.venv/lib/python3.11/site-packages (from pandas->layoutparser->unstructured-inference==0.7.36->unstructured[docx,md,pdf]==0.14.10->-r requirements.txt (line 3)) (2024.1)\r\n",
      "Requirement already satisfied: pypdfium2>=4.18.0 in ./.venv/lib/python3.11/site-packages (from pdfplumber->layoutparser->unstructured-inference==0.7.36->unstructured[docx,md,pdf]==0.14.10->-r requirements.txt (line 3)) (4.30.0)\r\n",
      "Requirement already satisfied: mpmath<1.4,>=1.1.0 in ./.venv/lib/python3.11/site-packages (from sympy->onnxruntime>=1.17.0->unstructured-inference==0.7.36->unstructured[docx,md,pdf]==0.14.10->-r requirements.txt (line 3)) (1.3.0)\r\n",
      "Building wheels for collected packages: langchain-rage\r\n",
      "  Building editable for langchain-rage (pyproject.toml) ... \u001B[?25ldone\r\n",
      "\u001B[?25h  Created wheel for langchain-rage: filename=langchain_rage-0.0.1-0.editable-py3-none-any.whl size=1776 sha256=1331211e205fdc563654e19c3fee67210d712957072bf85059248b6bfb573e9b\r\n",
      "  Stored in directory: /private/var/folders/wk/z_x2gpqj0lg4wm05hcc49yxr0000gn/T/pip-ephem-wheel-cache-29m_6rqu/wheels/9e/7f/77/f7456d91d3560a78eea905ad0bf68c17e70bd9c8a65af38d4c\r\n",
      "Successfully built langchain-rage\r\n",
      "Installing collected packages: langchain-rage\r\n",
      "  Attempting uninstall: langchain-rage\r\n",
      "    Found existing installation: langchain-rage 0.0.1\r\n",
      "    Uninstalling langchain-rage-0.0.1:\r\n",
      "      Successfully uninstalled langchain-rage-0.0.1\r\n",
      "Successfully installed langchain-rage-0.0.1\r\n",
      "\r\n",
      "\u001B[1m[\u001B[0m\u001B[34;49mnotice\u001B[0m\u001B[1;39;49m]\u001B[0m\u001B[39;49m A new release of pip is available: \u001B[0m\u001B[31;49m24.0\u001B[0m\u001B[39;49m -> \u001B[0m\u001B[32;49m24.1.2\u001B[0m\r\n",
      "\u001B[1m[\u001B[0m\u001B[34;49mnotice\u001B[0m\u001B[1;39;49m]\u001B[0m\u001B[39;49m To update, run: \u001B[0m\u001B[32;49mpip install --upgrade pip\u001B[0m\r\n"
     ]
    }
   ],
   "execution_count": 7
  },
  {
   "metadata": {
    "ExecuteTime": {
     "end_time": "2024-07-24T08:59:18.969685Z",
     "start_time": "2024-07-24T08:59:18.968151Z"
    }
   },
   "cell_type": "code",
   "source": [
    "#import logging\n",
    "\n",
    "#logging.basicConfig(level=logging.INFO)"
   ],
   "id": "c3a174bc4d755dff",
   "outputs": [],
   "execution_count": 8
  },
  {
   "metadata": {},
   "cell_type": "markdown",
   "source": "## RAGe Setup",
   "id": "6881a070f9bf61f8"
  },
  {
   "metadata": {},
   "cell_type": "markdown",
   "source": [
    "#### Create RAGe Service Instance\n",
    "\n",
    "Follow this guide to create the service instances for both `identity` and `document-grounding`. Download the service keys and keep them in a safe place. You may skip the parts related to `curl` in the wiki, all you need are the service keys.\n",
    "\n",
    "⚠️ **DO NOT UPLOAD YOUR SERVICE KEYS TO GITHUB** ⚠️\n",
    "\n",
    "Update the two variables below to point to your downloaded service keys."
   ],
   "id": "4c4cd39ceeec6941"
  },
  {
   "metadata": {},
   "cell_type": "markdown",
   "source": "### Setup RAGe Client",
   "id": "2ff01edfb91d6330"
  },
  {
   "metadata": {
    "ExecuteTime": {
     "end_time": "2024-07-24T08:59:18.981920Z",
     "start_time": "2024-07-24T08:59:18.970500Z"
    }
   },
   "cell_type": "code",
   "source": [
    "from langchain_rage.rage_clients.vector.client import VectorClient\n",
    "\n",
    "dg_key = \"./key-document-grounding-joule.json\"\n",
    "dg_identity_key = \"./key-document-grounding-joule-identity.json\"\n",
    "\n",
    "vector_client = VectorClient.create_from_service_keys(\n",
    "    path_document_grounding_key=dg_key, path_identity_key=dg_identity_key\n",
    ")"
   ],
   "id": "bface2ecedf1b2f1",
   "outputs": [],
   "execution_count": 9
  },
  {
   "metadata": {},
   "cell_type": "markdown",
   "source": "### Create RAGe Collection",
   "id": "966a135c812f5428"
  },
  {
   "metadata": {
    "ExecuteTime": {
     "end_time": "2024-07-24T08:59:22.934259Z",
     "start_time": "2024-07-24T08:59:18.983104Z"
    }
   },
   "cell_type": "code",
   "source": [
    "from langchain_rage.rage_clients.vector.model import MetaData as RAGeMetaData\n",
    "\n",
    "collection_name = \"joule-document-test\"\n",
    "\n",
    "# Do not call vector_client.delete_all_collections() - this will break Joule due to deleting internal data.\n",
    "\n",
    "# Clean up all custom documents, if required\n",
    "vector_client.delete_collection_by_metadata(\"type\", \"custom\")\n",
    "\n",
    "# Clean up any existing collection with the same name\n",
    "vector_client.delete_all_collections_by_name(collection_name)\n",
    "\n",
    "# type=custom enables Joule to use the collection\n",
    "collection_id = vector_client.create_collection(collection_name, metadata=[RAGeMetaData(key=\"type\", value=[\"custom\"])])\n",
    "\n",
    "print(f\"Created collection: '{collection_id}'\")"
   ],
   "id": "dde7c2b37a316acd",
   "outputs": [
    {
     "name": "stdout",
     "output_type": "stream",
     "text": [
      "Created collection: '52f41940-e499-4650-b461-33299fb5453b'\n"
     ]
    }
   ],
   "execution_count": 10
  },
  {
   "metadata": {},
   "cell_type": "markdown",
   "source": [
    "## Downloading the dataset\n",
    "\n",
    "You can bring your own dataset by just putting files into the `path` and comment out the download code below."
   ],
   "id": "4695709468c1036a"
  },
  {
   "metadata": {
    "ExecuteTime": {
     "end_time": "2024-07-24T08:59:22.938900Z",
     "start_time": "2024-07-24T08:59:22.935634Z"
    }
   },
   "cell_type": "code",
   "source": "path = \"tmp\"",
   "id": "d8d2b4423984ea71",
   "outputs": [],
   "execution_count": 11
  },
  {
   "metadata": {
    "ExecuteTime": {
     "end_time": "2024-07-24T08:59:22.942006Z",
     "start_time": "2024-07-24T08:59:22.940041Z"
    }
   },
   "cell_type": "code",
   "source": [
    "from dataclasses import dataclass\n",
    "\n",
    "# Just a helper class for the download.\n",
    "@dataclass\n",
    "class DocSource:\n",
    "    url: str\n",
    "    target_file_name: str\n",
    "    \n",
    "\n",
    "urls = [\n",
    "    # DocSource(url=\"https://help.sap.com/doc/c31b38b32a5d4e07a4488cb0f8bb55d9/CLOUD/en-US/f17fa8568d0448c685f2a0301061a6ee.pdf\", target_file_name=\"Service Guide SAP AI Core.pdf\"),\n",
    "    DocSource(url=\"https://arxiv.org/pdf/2405.00200\", target_file_name=\"arxiv-2405.00200.pdf\"),   \n",
    "]"
   ],
   "id": "504f707775fd70da",
   "outputs": [],
   "execution_count": 12
  },
  {
   "metadata": {
    "ExecuteTime": {
     "end_time": "2024-07-24T08:59:23.935695Z",
     "start_time": "2024-07-24T08:59:22.942701Z"
    }
   },
   "cell_type": "code",
   "source": [
    "import shutil\n",
    "import os\n",
    "\n",
    "import requests\n",
    "\n",
    "if os.path.exists(path):\n",
    "    shutil.rmtree(path)\n",
    "os.makedirs(path)\n",
    "\n",
    "for doc_source in urls:\n",
    "    response = requests.get(doc_source.url, allow_redirects=True)\n",
    "    response.raise_for_status()\n",
    "    filename = os.path.join(path,doc_source.target_file_name)\n",
    "    with open(filename, \"wb\") as file:\n",
    "        file.write(response.content)"
   ],
   "id": "b190badae0cf0bc",
   "outputs": [],
   "execution_count": 13
  },
  {
   "metadata": {},
   "cell_type": "markdown",
   "source": "## Processing the dataset",
   "id": "15071a5cf35bec71"
  },
  {
   "metadata": {},
   "cell_type": "markdown",
   "source": [
    "\n",
    "### Setup the Document Loader"
   ],
   "id": "c518c5bb70de4277"
  },
  {
   "metadata": {
    "ExecuteTime": {
     "end_time": "2024-07-24T08:59:23.953666Z",
     "start_time": "2024-07-24T08:59:23.937796Z"
    }
   },
   "cell_type": "code",
   "source": [
    "from langchain_community.document_loaders import DirectoryLoader\n",
    "\n",
    "loader = DirectoryLoader(path=str(path))"
   ],
   "id": "6598cec38384ed4f",
   "outputs": [],
   "execution_count": 14
  },
  {
   "metadata": {},
   "cell_type": "markdown",
   "source": "### Configure Chunking Strategy",
   "id": "53f9652a53044d"
  },
  {
   "metadata": {
    "ExecuteTime": {
     "end_time": "2024-07-24T08:59:23.961354Z",
     "start_time": "2024-07-24T08:59:23.954325Z"
    }
   },
   "cell_type": "code",
   "source": [
    "from langchain_text_splitters import RecursiveCharacterTextSplitter\n",
    "# Compare to production pipeline here:\n",
    "# * https://github.tools.sap/AI-BUS/rage-pipeline-api/blob/aeefda0814283c2a0ae4b0a6fb777cfa0315b54d/srv/services/pipeline-service.ts#L152-L152\n",
    "# * https://github.tools.sap/AI-BUS/rage-pipeline-steps/blob/dccce7dd5c4f0787e0526750017fc63d917e39fa/src/processor.py#L171-L171\n",
    "chunker = RecursiveCharacterTextSplitter(\n",
    "    chunk_size=1000,\n",
    "    chunk_overlap=100,\n",
    "    length_function=len,\n",
    "    add_start_index=True,\n",
    ")"
   ],
   "id": "d51dc1a5d25c7f5e",
   "outputs": [],
   "execution_count": 15
  },
  {
   "metadata": {},
   "cell_type": "markdown",
   "source": "### Process & Upload",
   "id": "cc27de87c1e93366"
  },
  {
   "metadata": {
    "ExecuteTime": {
     "end_time": "2024-07-24T09:04:02.812190Z",
     "start_time": "2024-07-24T09:03:44.302478Z"
    }
   },
   "cell_type": "code",
   "source": [
    "from src.rage_custom_pipeline.joule_support import convert_rage_chunks_to_rage_document, \\\n",
    "    convert_langchain_document_to_rage_chunk\n",
    "\n",
    "raw_documents = loader.load()\n",
    "\n",
    "rage_documents = []\n",
    "\n",
    "for raw_document in raw_documents:\n",
    "    langchain_chunks = chunker.split_documents([raw_document])\n",
    "    for langchain_chunk in langchain_chunks:\n",
    "        # NB: Unlike the production pipeline, every _chunk_ is converted into an individual\n",
    "        # RAGe document. This is useful as Joule will only process one chunk per RAGe document,\n",
    "        # hence we pretend here that each chunk is a separate document.\n",
    "        # This is particularly useful if only very few documents are ingested.\n",
    "        rage_chunk = convert_langchain_document_to_rage_chunk(langchain_chunk)\n",
    "        \n",
    "        document_metadata = {\n",
    "            \"title\": raw_document.metadata[\"source\"]\n",
    "        }\n",
    "        rage_document = convert_rage_chunks_to_rage_document([rage_chunk], metadata=document_metadata)\n",
    "        rage_documents.append(rage_document)\n",
    "\n",
    "document_ids = vector_client.create_documents(\n",
    "    collection_id=collection_id, documents=rage_documents\n",
    ")        \n",
    "print(f\"Uploaded documents: {document_ids}\")"
   ],
   "id": "3e93a8ef2f0716b7",
   "outputs": [
    {
     "name": "stdout",
     "output_type": "stream",
     "text": [
      "Uploaded documents: ['42edd240-cd0b-47e1-af0c-9fa6bbea4213', '5b6ae87c-ebc3-4240-8401-fc2a4d04d80e', 'b8f8db2b-4072-472a-b014-3afe0247e4d9', '33c3c917-77ec-4bc0-82a9-30e5d3e718f1', '01ace981-8443-4a0a-9044-1792936d98a8', '0a6ffb3a-1132-4087-b2f9-313044a0defe', 'b9e86c43-13d7-4c6f-b484-6d87dbb06b9f', '062e4e3a-6a31-44cb-887c-7b7d75937511', '8c0e7673-badd-40af-ab89-e1dc7bd0dcf2', '61188f21-8bd8-4e0e-8a44-7517f3a65c83', 'b04ef852-3e9c-463f-8e56-d12e56bee11a', '2f6eb3a3-6ceb-4176-9259-4e2bf5102c54', 'b49ff332-8420-4889-9359-e257b6040b22', 'd8992d29-f75c-490b-90ff-93f0565bd0a3', '8e04def3-cb7b-425f-9f32-b9f58ef24c59', '2f4153e4-0a83-4904-af36-c9001bd8fb57', '082cace2-ca97-46aa-9eaf-6ec59c4b3fd8', 'b35fefd4-d4c6-4e34-b649-940b80516ed8', '5d068a1a-1d88-4ee7-b748-dea39bbdda03', 'cd870f48-d257-482f-b538-73d074277ecc', '211c38f0-a9a2-46a4-8d58-55aa92acd843', '17961e44-ad76-458a-8eb8-35428784f304', '7ae0e8e6-8f0f-429b-921f-9c38c7d3ae62', '57447945-02db-49e9-80d2-b9efded777a9', '66767983-056e-4faf-80ad-f45c8fc20a45', '3cc0bc74-8028-4526-9f80-941529b63f40', 'bb63eab9-eb7c-4d51-b408-6ad1e573db81', '5899e1b6-5760-45e4-9df0-11cf2ca8a10e', '3f327166-4fc7-4164-b8a6-5f44939db093', '9a9c2d17-66f9-48af-afe1-b3b2d0a14de3', '5ce6abea-2d00-491c-8d3e-216e8042c57b', '379838ec-138a-4c17-96b9-26da07a7529e', '9c96baf8-ab2c-4516-9775-92feefd79ed4', '0ae63677-6ec9-4f2b-ae5f-a11e9fef8f70', '7bbb00f5-2fcb-4518-9669-471b5b8c508b', '085bd8d0-0a4f-4ee8-92c9-533022dea6f7', '34482404-4e4a-420e-88a4-fb3f6a52d44f', '7ce78d3f-c51c-45e2-a7f8-c4aa85070a79', 'f18ec089-246d-43f3-8b00-5b414e2fa3ac', '49091194-dd6d-40c0-892a-f7402c9bb5c6', 'e5a7408e-9d5e-4810-b033-359759285153', '9cf464fe-6077-4c13-9356-87f09ec7b744', '834ea02f-8d68-40d6-9e4e-d24a4eea96a8', '6c96d6d2-3fa5-42e3-9109-f48d254de3ab', '15c05763-b37a-4f66-b96e-0b5f9da39a66', '843cb3c1-e743-4f3b-8ad6-8f475371c8b0', 'f1deec7f-493f-496c-963b-ee72bfb4bc5a', '07f5046d-150f-4c81-8abf-66690c54f1ec', '3d599a40-d00f-412e-8b2c-2ead6d5da7bd', '41e9cc23-4d3b-4f53-a555-df336193337f', 'c4c48ee3-9bd5-429b-b790-a8dc9d910c46', '7b137f98-486d-445c-a092-cf6fd502e170', 'cb6307ee-d8db-4daa-878b-87989478cedc', '5ac0ad9b-9123-4742-bda9-eea2f033028c', 'd796a73d-3f4b-4a12-8741-e1b8451190ca', '82d12d9c-64cc-478a-b939-92d1ee2c50cc', 'be3c8c3a-7643-4114-8ed5-575c97756800', '4d46253a-5f8c-4f70-8e86-8a2d23aaa261', '98f6fc68-3d67-4760-aa11-b63246c99619', '1f63d4ba-7f23-45b6-9814-f28eee67b926', 'bc923f03-287e-4133-a835-3520ad508d58', '52b8f057-4f47-4890-a50a-5b781d141160', 'cd3ba2cb-657b-4066-9491-17b3b8f72a44', '20606b2b-538b-47ed-95f3-0843f8692768', '3fd1f367-cf99-426d-a1e5-73ab2f5f6551', '659d822f-2eab-43c9-b660-1789338ec26a', '19930912-2bfc-4d39-b9ee-25a3d77d8752', 'cdb48949-cddb-48b9-9fe0-2e42a3b24950', '58c436f6-5474-4776-8296-004b6b25a006', '3f307a3e-d0f1-4efe-8b05-329602b15cef', 'c60b95d1-34e3-48d3-920e-e3ae5cd52dab', 'b4614052-42cb-473a-b926-f5f01c98e760', '9b1e7f60-2ced-4ff4-afab-4453dc58002d', '1748986c-b69a-4ae2-875f-cbc736e0a421', 'e36a5039-8293-43a4-b245-56edf29a2805', 'fb431bbb-dd3a-4a36-be41-b3383fe6df04', 'cdb46b53-4dd5-4726-8f9c-94eb0d0afa17', '92b6bbf0-bbd7-4701-a1e6-26e9750b2269', 'e9c6d36a-4e72-416d-91f1-4a5ffa8621f5', '377cdcda-ed7f-4a8c-990e-f063ef0031eb', '82d53bac-65d0-485c-a151-dbca641e6cf9', 'bff3e9ca-1c17-4a37-b53c-f3a835d481a5', 'db8aa39c-8929-431a-964f-74ab493d794a', '170ccdea-cc9f-49ad-962d-838d60a3ed1b', '103bbb57-ee0c-40f5-affc-f139a7aa9832', '28f80571-4050-4357-9b41-03386bc38cd8', 'bcc19bac-2dd4-4a08-9c59-233563c2777f', '704272e1-5a07-4ae8-8f12-571ae0fd31fa', '6ffd8634-eaa9-4acd-a09e-ed31ed7ef3b3', 'f5d94cb3-4a7c-4fbd-9627-8c1207e1ad82', 'a2a2a300-e527-47e3-a140-e4837c02c0df', 'd09fc000-8102-466d-b3b6-b8c31a9f7578']\n"
     ]
    }
   ],
   "execution_count": 17
  },
  {
   "metadata": {},
   "cell_type": "markdown",
   "source": [
    "## Retrieval\n",
    "\n",
    "To test the retrieval, we will query the collection with a simple question."
   ],
   "id": "c6a7b1d4565e3d22"
  },
  {
   "metadata": {},
   "cell_type": "markdown",
   "source": "### Setup RAGe Retrieval Client",
   "id": "d2478dc94441ff0"
  },
  {
   "metadata": {
    "ExecuteTime": {
     "end_time": "2024-07-24T09:04:20.444792Z",
     "start_time": "2024-07-24T09:04:20.424936Z"
    }
   },
   "cell_type": "code",
   "source": [
    "from langchain_rage.rage_clients.retrieval.client import RetrievalClient\n",
    "\n",
    "retrieval_client = RetrievalClient.create_from_service_keys(\n",
    "    path_document_grounding_key=dg_key, path_identity_key=dg_identity_key\n",
    ")"
   ],
   "id": "dd46c1950c25794",
   "outputs": [],
   "execution_count": 18
  },
  {
   "metadata": {},
   "cell_type": "markdown",
   "source": "### Example Query",
   "id": "797beeee4691a37b"
  },
  {
   "metadata": {
    "ExecuteTime": {
     "end_time": "2024-07-24T09:04:23.509146Z",
     "start_time": "2024-07-24T09:04:23.507202Z"
    }
   },
   "cell_type": "code",
   "source": "query = \"What is in-context learning?\"",
   "id": "6f63a648fb0d4b58",
   "outputs": [],
   "execution_count": 19
  },
  {
   "metadata": {
    "ExecuteTime": {
     "end_time": "2024-07-24T09:04:25.580735Z",
     "start_time": "2024-07-24T09:04:24.506984Z"
    }
   },
   "cell_type": "code",
   "source": [
    "from langchain_rage.rage_clients.retrieval.model import SearchConfiguration, SearchFilter, Search\n",
    "\n",
    "search_configuration = SearchConfiguration(maxChunkCount=5)\n",
    "search_filter = SearchFilter(\n",
    "    dataRepositories=[collection_id],\n",
    "    dataRepositoryType=\"vector\",\n",
    "    searchConfiguration=search_configuration,\n",
    ")\n",
    "search = Search(query=query, filters=[search_filter])\n",
    "response = retrieval_client.query(search)\n",
    "from pprint import pprint\n",
    "\n",
    "pprint(response.json(), width=200)"
   ],
   "id": "536d21fca756e31b",
   "outputs": [
    {
     "name": "stdout",
     "output_type": "stream",
     "text": [
      "{'results': [{'filterId': 'b7abea59-7b7e-4b59-9b3f-370ac2408149',\n",
      "              'results': [{'dataRepository': {'documents': [{'chunks': [{'content': '1\\n'\n",
      "                                                                                    '\\n'\n",
      "                                                                                    'Introduction\\n'\n",
      "                                                                                    '\\n'\n",
      "                                                                                    'When a few examples are provided in-context, large language models can perform many tasks with reasonable '\n",
      "                                                                                    'accuracy. While questions remain about the exact mechanism behind this phenomena (Min et al., 2022b; von Oswald '\n",
      "                                                                                    'et al., 2023), this paradigm of in-context learning (ICL) has seen widespread adoption in both academic and '\n",
      "                                                                                    'industry applications, thanks to its ease of implementation, relatively small computational cost, and ability to '\n",
      "                                                                                    'reuse a single model across tasks.',\n",
      "                                                                         'id': '8a9256ec-a3f1-4ca4-91e0-220051d4171e',\n",
      "                                                                         'metadata': [{'key': 'id', 'value': ['148314054419571584244169613712263931042']},\n",
      "                                                                                      {'key': 'webUrl', 'value': ['https://www.sap.com/']},\n",
      "                                                                                      {'key': 'chunkRange', 'value': ['1696-2186']},\n",
      "                                                                                      {'key': 'startIndex', 'value': ['1696']}]}],\n",
      "                                                             'id': '33c3c917-77ec-4bc0-82a9-30e5d3e718f1',\n",
      "                                                             'metadata': [{'key': 'timestamp', 'matchMode': 'ANY', 'value': ['1721811825']},\n",
      "                                                                          {'key': 'id', 'matchMode': 'ANY', 'value': ['27008157578211042721174403295255660548']},\n",
      "                                                                          {'key': 'title', 'matchMode': 'ANY', 'value': ['tmp/arxiv-2405.00200.pdf']},\n",
      "                                                                          {'key': 'mimetype', 'matchMode': 'ANY', 'value': ['application/pdf']},\n",
      "                                                                          {'key': 'webUrl', 'matchMode': 'ANY', 'value': ['https://www.sap.com/']}]},\n",
      "                                                            {'chunks': [{'content': 'Aristides Milios, Siva Reddy, and Dzmitry Bahdanau. In-context learning for text classifi- cation with many '\n",
      "                                                                                    'labels. In Dieuwke Hupkes, Verna Dankers, Khuyagbaatar Batsuren, Koustuv Sinha, Amirhossein Kazemnejad, Christos '\n",
      "                                                                                    'Christodoulopoulos, Ryan Cotterell, and Elia Bruni (eds.), Proceedings of the 1st GenBench Workshop on '\n",
      "                                                                                    '(Benchmarking) Generali- sation in NLP, Singapore, 2023. Association for Computational Linguistics. doi: '\n",
      "                                                                                    '10.18653/ v1/2023.genbench-1.14. URL https://aclanthology.org/2023.genbench-1.14.\\n'\n",
      "                                                                                    '\\n'\n",
      "                                                                                    'Sewon Min, Mike Lewis, Luke Zettlemoyer, and Hannaneh Hajishirzi. MetaICL: Learning to learn in context. In '\n",
      "                                                                                    'Proceedings of the 2022 Conference of the North American Chapter of the As- sociation for Computational '\n",
      "                                                                                    'Linguistics: Human Language Technologies, Seattle, United States, 2022a. Association for Computational '\n",
      "                                                                                    'Linguistics. doi: 10.18653/v1/2022.naacl-main.201. URL https://aclanthology.org/2022.naacl-main.201.',\n",
      "                                                                         'id': '418c1a07-3182-48f2-a724-409f5d8a7918',\n",
      "                                                                         'metadata': [{'key': 'id', 'value': ['166873933219732396784042324938136654868']},\n",
      "                                                                                      {'key': 'webUrl', 'value': ['https://www.sap.com/']},\n",
      "                                                                                      {'key': 'chunkRange', 'value': ['41569-42496']},\n",
      "                                                                                      {'key': 'startIndex', 'value': ['41569']}]}],\n",
      "                                                             'id': '82d12d9c-64cc-478a-b939-92d1ee2c50cc',\n",
      "                                                             'metadata': [{'key': 'timestamp', 'matchMode': 'ANY', 'value': ['1721811825']},\n",
      "                                                                          {'key': 'id', 'matchMode': 'ANY', 'value': ['45390094284979804905842082787604400448']},\n",
      "                                                                          {'key': 'title', 'matchMode': 'ANY', 'value': ['tmp/arxiv-2405.00200.pdf']},\n",
      "                                                                          {'key': 'mimetype', 'matchMode': 'ANY', 'value': ['application/pdf']},\n",
      "                                                                          {'key': 'webUrl', 'matchMode': 'ANY', 'value': ['https://www.sap.com/']}]},\n",
      "                                                            {'chunks': [{'content': 'Sewon Min, Xinxi Lyu, Ari Holtzman, Mikel Artetxe, Mike Lewis, Hannaneh Hajishirzi, and Luke Zettlemoyer. '\n",
      "                                                                                    'Rethinking the role of demonstrations: What makes in-context learning In Proceedings of the 2022 Conference on '\n",
      "                                                                                    'Empirical Methods in Natural Language work? Processing, Abu Dhabi, United Arab Emirates, 2022b. Association for '\n",
      "                                                                                    'Computational Linguistics. URL https://aclanthology.org/2022.emnlp-main.759.\\n'\n",
      "                                                                                    '\\n'\n",
      "                                                                                    'Marius Mosbach, Tiago Pimentel, Shauli Ravfogel, Dietrich Klakow, and Yanai Elazar. In Few-shot fine-tuning vs. '\n",
      "                                                                                    'in-context learning: A fair comparison and evaluation. Anna Rogers, Jordan Boyd-Graber, and Naoaki Okazaki '\n",
      "                                                                                    '(eds.), Findings of the Asso- ciation for Computational Linguistics: ACL 2023, Toronto, Canada, 2023. Association '\n",
      "                                                                                    'for Computational Linguistics. doi: 10.18653/v1/2023.findings-acl.779. URL https: '\n",
      "                                                                                    '//aclanthology.org/2023.findings-acl.779.\\n'\n",
      "                                                                                    '\\n'\n",
      "                                                                                    '13\\n'\n",
      "                                                                                    '\\n'\n",
      "                                                                                    'Preprint\\n'\n",
      "                                                                                    '\\n'\n",
      "                                                                                    'Juri Opitz and Sebastian Burst. Macro f1 and macro f1, 2021.',\n",
      "                                                                         'id': '6427c470-39bd-489a-83ad-ea7f5a477c2f',\n",
      "                                                                         'metadata': [{'key': 'id', 'value': ['65946775796905244233723360661350041132']},\n",
      "                                                                                      {'key': 'webUrl', 'value': ['https://www.sap.com/']},\n",
      "                                                                                      {'key': 'chunkRange', 'value': ['42498-43437']},\n",
      "                                                                                      {'key': 'startIndex', 'value': ['42498']}]}],\n",
      "                                                             'id': 'be3c8c3a-7643-4114-8ed5-575c97756800',\n",
      "                                                             'metadata': [{'key': 'timestamp', 'matchMode': 'ANY', 'value': ['1721811825']},\n",
      "                                                                          {'key': 'id', 'matchMode': 'ANY', 'value': ['237745308942459297689642339531079916599']},\n",
      "                                                                          {'key': 'title', 'matchMode': 'ANY', 'value': ['tmp/arxiv-2405.00200.pdf']},\n",
      "                                                                          {'key': 'mimetype', 'matchMode': 'ANY', 'value': ['application/pdf']},\n",
      "                                                                          {'key': 'webUrl', 'matchMode': 'ANY', 'value': ['https://www.sap.com/']}]},\n",
      "                                                            {'chunks': [{'content': '13\\n'\n",
      "                                                                                    '\\n'\n",
      "                                                                                    'Preprint\\n'\n",
      "                                                                                    '\\n'\n",
      "                                                                                    'Juri Opitz and Sebastian Burst. Macro f1 and macro f1, 2021.\\n'\n",
      "                                                                                    '\\n'\n",
      "                                                                                    'Jane Pan, Tianyu Gao, Howard Chen, and Danqi Chen. What in-context learning “learns” in- context: Disentangling '\n",
      "                                                                                    'task recognition and task learning. In Anna Rogers, Jordan Boyd- Graber, and Naoaki Okazaki (eds.), Findings of '\n",
      "                                                                                    'the Association for Computational Linguistics: ACL 2023, Toronto, Canada, 2023. Association for Computational '\n",
      "                                                                                    'Linguistics. doi: 10. 18653/v1/2023.findings-acl.527. URL https://aclanthology.org/2023.findings-acl. 527.\\n'\n",
      "                                                                                    '\\n'\n",
      "                                                                                    'Bowen Peng, Jeffrey Quesnelle, Honglu Fan, and Enrico Shippole. Yarn: Efficient context\\n'\n",
      "                                                                                    '\\n'\n",
      "                                                                                    'window extension of large language models, 2023.',\n",
      "                                                                         'id': 'a41ebef6-2fa7-4519-9f7f-b1f1a92cdf63',\n",
      "                                                                         'metadata': [{'key': 'id', 'value': ['144048286252101636062334313744789107939']},\n",
      "                                                                                      {'key': 'webUrl', 'value': ['https://www.sap.com/']},\n",
      "                                                                                      {'key': 'chunkRange', 'value': ['43363-44018']},\n",
      "                                                                                      {'key': 'startIndex', 'value': ['43363']}]}],\n",
      "                                                             'id': '4d46253a-5f8c-4f70-8e86-8a2d23aaa261',\n",
      "                                                             'metadata': [{'key': 'timestamp', 'matchMode': 'ANY', 'value': ['1721811825']},\n",
      "                                                                          {'key': 'id', 'matchMode': 'ANY', 'value': ['207575903049301695337007590154792578658']},\n",
      "                                                                          {'key': 'title', 'matchMode': 'ANY', 'value': ['tmp/arxiv-2405.00200.pdf']},\n",
      "                                                                          {'key': 'mimetype', 'matchMode': 'ANY', 'value': ['application/pdf']},\n",
      "                                                                          {'key': 'webUrl', 'matchMode': 'ANY', 'value': ['https://www.sap.com/']}]},\n",
      "                                                            {'chunks': [{'content': 'As model context lengths continue to increase, the number of demonstra- tions that can be provided in-context '\n",
      "                                                                                    'approaches the size of entire training datasets. We study the behavior of in-context learning (ICL) at this '\n",
      "                                                                                    'extreme scale on multiple datasets and models. We show that, for many datasets with large label spaces, '\n",
      "                                                                                    'performance continues to increase with hundreds or thousands of demonstrations. We contrast this with example '\n",
      "                                                                                    'retrieval and finetuning: example retrieval shows excellent performance at low context lengths but has diminished '\n",
      "                                                                                    'gains with more demonstrations; finetuning is more data hungry than ICL but can sometimes exceed long-context ICL '\n",
      "                                                                                    'performance with additional data. We use this ICL setting as a testbed to study several properties of both '\n",
      "                                                                                    'in-context learning and long-context models. We show that long-context ICL is less sensitive to random input '\n",
      "                                                                                    'shuffling than short-context ICL, that grouping of same-label examples can negatively impact performance, and '\n",
      "                                                                                    'that the',\n",
      "                                                                         'id': '2f8f84b5-cff8-4792-8d66-0493209471d6',\n",
      "                                                                         'metadata': [{'key': 'id', 'value': ['24980638340607435616482611298805944857']},\n",
      "                                                                                      {'key': 'webUrl', 'value': ['https://www.sap.com/']},\n",
      "                                                                                      {'key': 'chunkRange', 'value': ['436-1430']},\n",
      "                                                                                      {'key': 'startIndex', 'value': ['436']}]}],\n",
      "                                                             'id': '5b6ae87c-ebc3-4240-8401-fc2a4d04d80e',\n",
      "                                                             'metadata': [{'key': 'timestamp', 'matchMode': 'ANY', 'value': ['1721811825']},\n",
      "                                                                          {'key': 'id', 'matchMode': 'ANY', 'value': ['130752144597080689593616304538960006368']},\n",
      "                                                                          {'key': 'title', 'matchMode': 'ANY', 'value': ['tmp/arxiv-2405.00200.pdf']},\n",
      "                                                                          {'key': 'mimetype', 'matchMode': 'ANY', 'value': ['application/pdf']},\n",
      "                                                                          {'key': 'webUrl', 'matchMode': 'ANY', 'value': ['https://www.sap.com/']}]}],\n",
      "                                              'id': '52f41940-e499-4650-b461-33299fb5453b',\n",
      "                                              'metadata': [{'key': 'type', 'value': ['custom']}],\n",
      "                                              'title': 'joule-document-test'}}]}]}\n"
     ]
    }
   ],
   "execution_count": 20
  },
  {
   "metadata": {},
   "cell_type": "markdown",
   "source": [
    "## Joule Testing\n",
    "\n",
    "This section of the notebook requires a functional Joule test environment, with the command line client pointing to the correct Joule instance. The Joule instance must be provisioned in the same BTP subaccount as the RAGe service."
   ],
   "id": "33fa57e649a28f1a"
  },
  {
   "metadata": {
    "ExecuteTime": {
     "end_time": "2024-07-24T09:05:58.983136Z",
     "start_time": "2024-07-24T09:05:50.289647Z"
    }
   },
   "cell_type": "code",
   "source": "! joule dialog sap_digital_assistant \"What can you tell me about in-context learning?\"",
   "id": "ae1cb61d8292e7a4",
   "outputs": [
    {
     "name": "stdout",
     "output_type": "stream",
     "text": [
      "Messages:\r\n",
      "{\r\n",
      "  \"type\": \"text\",\r\n",
      "  \"content\": \"In-context learning (ICL) is a paradigm where large language models are provided with a few examples in a specific context to perform various tasks. It has gained popularity due to its ease of implementation, low computational cost, and the ability to reuse a single model across tasks [[1]](https://www.sap.com/). ICL has been studied extensively, and it has been shown that performance continues to improve with a larger number of demonstrations, especially for datasets with large label spaces [[2]](https://www.sap.com/). It is less sensitive to random input shuffling and can outperform other methods like example retrieval and fine-tuning in certain scenarios [[2]](https://www.sap.com/).\",\r\n",
      "  \"markdown\": true\r\n",
      "}\r\n",
      "\r\n",
      "{\r\n",
      "  \"type\": \"list\",\r\n",
      "  \"content\": {\r\n",
      "    \"displayInPanel\": true,\r\n",
      "    \"panel\": {\r\n",
      "      \"collapsed\": true\r\n",
      "    },\r\n",
      "    \"title\": \"Source Documents\",\r\n",
      "    \"enableDetailView\": false,\r\n",
      "    \"elements\": [\r\n",
      "      {\r\n",
      "        \"title\": {\r\n",
      "          \"markdown\": true,\r\n",
      "          \"value\": \"[[1] tmp/arxiv-2405.00200.pdf](https://www.sap.com/)\"\r\n",
      "        },\r\n",
      "        \"description\": {\r\n",
      "          \"value\": \"Source: Company-Specific Document\",\r\n",
      "          \"maxLines\": 3\r\n",
      "        }\r\n",
      "      },\r\n",
      "      {\r\n",
      "        \"title\": {\r\n",
      "          \"markdown\": true,\r\n",
      "          \"value\": \"[[2] tmp/arxiv-2405.00200.pdf](https://www.sap.com/)\"\r\n",
      "        },\r\n",
      "        \"description\": {\r\n",
      "          \"value\": \"Source: Company-Specific Document\",\r\n",
      "          \"maxLines\": 3\r\n",
      "        }\r\n",
      "      }\r\n",
      "    ]\r\n",
      "  }\r\n",
      "}\r\n"
     ]
    }
   ],
   "execution_count": 21
  },
  {
   "metadata": {},
   "cell_type": "markdown",
   "source": "![](img/screenshot-joule.png)",
   "id": "f1dc7e1bc1f624bf"
  },
  {
   "metadata": {},
   "cell_type": "code",
   "outputs": [],
   "execution_count": null,
   "source": "",
   "id": "3661f4ee25d56ca3"
  }
 ],
 "metadata": {
  "kernelspec": {
   "display_name": "Python 3",
   "language": "python",
   "name": "python3"
  },
  "language_info": {
   "codemirror_mode": {
    "name": "ipython",
    "version": 2
   },
   "file_extension": ".py",
   "mimetype": "text/x-python",
   "name": "python",
   "nbconvert_exporter": "python",
   "pygments_lexer": "ipython2",
   "version": "2.7.6"
  }
 },
 "nbformat": 4,
 "nbformat_minor": 5
}
